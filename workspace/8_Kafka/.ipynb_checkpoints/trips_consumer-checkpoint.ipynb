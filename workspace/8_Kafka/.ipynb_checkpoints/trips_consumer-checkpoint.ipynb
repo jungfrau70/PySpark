{
 "cells": [
  {
   "cell_type": "code",
   "execution_count": 1,
   "id": "29375806-912b-47e4-a6cd-9ee5780fec99",
   "metadata": {},
   "outputs": [
    {
     "name": "stdout",
     "output_type": "stream",
     "text": [
      "Writing ./trips/trips_consumer.py\n"
     ]
    }
   ],
   "source": [
    "%%writefile ./trips/trips_consumer.py\n",
    "\n",
    "from kafka import KafkaConsumer \n",
    "import json \n",
    "\n",
    "brokers = [\"kafka1:19091\", \"kafka2:19092\", \"kafka3:19093\"]\n",
    "# brokers = [\"kafka1:9091\", \"kafka2:9092\", \"kafka3:9093\"]\n",
    "\n",
    "topicName = \"trips\"\n",
    "consumer = KafkaConsumer(topicName, bootstrap_servers=brokers)\n",
    "\n",
    "for message in consumer:\n",
    "  row = json.loads(message.value.decode())\n",
    "  #print(row)\n",
    "  \n",
    "  # processing only if over $10\n",
    "  if float(row[10]) > 10:\n",
    "    print(row[10])"
   ]
  },
  {
   "cell_type": "code",
   "execution_count": null,
   "id": "513575e5-a900-46e7-b626-40403e192915",
   "metadata": {},
   "outputs": [],
   "source": [
    "! python ./trips/trips_consumer.py"
   ]
  },
  {
   "cell_type": "code",
   "execution_count": null,
   "id": "9c75757a-1cee-4065-822c-916da0050485",
   "metadata": {},
   "outputs": [],
   "source": []
  }
 ],
 "metadata": {
  "kernelspec": {
   "display_name": "Python 3 (ipykernel)",
   "language": "python",
   "name": "python3"
  },
  "language_info": {
   "codemirror_mode": {
    "name": "ipython",
    "version": 3
   },
   "file_extension": ".py",
   "mimetype": "text/x-python",
   "name": "python",
   "nbconvert_exporter": "python",
   "pygments_lexer": "ipython3",
   "version": "3.7.0"
  }
 },
 "nbformat": 4,
 "nbformat_minor": 5
}

{
 "cells": [
  {
   "cell_type": "code",
   "execution_count": 6,
   "id": "48022e0f-9f99-4c7c-9919-9a95fef57772",
   "metadata": {},
   "outputs": [
    {
     "name": "stdout",
     "output_type": "stream",
     "text": [
      "Overwriting fraud_detection/payment_producer.py\n"
     ]
    }
   ],
   "source": [
    "%%writefile fraud_detection/payment_producer.py\n",
    "from kafka import KafkaProducer \n",
    "import datetime \n",
    "import pytz \n",
    "import time \n",
    "import random \n",
    "import json \n",
    "\n",
    "\n",
    "TOPIC_NAME = \"payments\"\n",
    "brokers = [\"kafka1:19091\", \"kafka2:19092\", \"kafka3:19093\"]\n",
    "producer = KafkaProducer(bootstrap_servers=brokers)\n",
    "\n",
    "def get_time_date():\n",
    "  utc_now = pytz.utc.localize(datetime.datetime.utcnow())\n",
    "  kst_now = utc_now.astimezone(pytz.timezone(\"Asia/Seoul\"))\n",
    "  d = kst_now.strftime(\"%m/%d/%Y\")\n",
    "  t = kst_now.strftime(\"%H:%M:%S\")\n",
    "  return d, t \n",
    "\n",
    "def generate_payment_data():\n",
    "  payment_type = random.choice([\"VISA\", \"MASTERCARD\", \"BITCOIN\"])\n",
    "  amount = random.randint(0, 100)\n",
    "  to = random.choice([\"me\", \"mom\", \"dad\", \"friend\", \"stranger\"])\n",
    "  return payment_type, amount, to\n",
    "\n",
    "while True:\n",
    "  d, t = get_time_date()\n",
    "  payment_type, amount, to = generate_payment_data() \n",
    "  new_data = {\n",
    "    \"DATE\": d,\n",
    "    \"TIME\": t,\n",
    "    \"PAYMENT_TYPE\": payment_type,\n",
    "    \"AMOUNT\": amount,\n",
    "    \"TO\": to,\n",
    "  }\n",
    "\n",
    "  # convert python object to json, and then in utf-8 format\n",
    "  producer.send(TOPIC_NAME, json.dumps(new_data).encode(\"utf-8\"))\n",
    "\n",
    "  print(new_data)\n",
    "  time.sleep(1)"
   ]
  },
  {
   "cell_type": "code",
   "execution_count": null,
   "id": "b84d23c9-b701-41ab-915e-d6114eff23f9",
   "metadata": {},
   "outputs": [
    {
     "name": "stdout",
     "output_type": "stream",
     "text": [
      "{'DATE': '03/26/2022', 'TIME': '05:04:16', 'PAYMENT_TYPE': 'VISA', 'AMOUNT': 42, 'TO': 'me'}\n",
      "{'DATE': '03/26/2022', 'TIME': '05:04:17', 'PAYMENT_TYPE': 'BITCOIN', 'AMOUNT': 65, 'TO': 'dad'}\n",
      "{'DATE': '03/26/2022', 'TIME': '05:04:18', 'PAYMENT_TYPE': 'MASTERCARD', 'AMOUNT': 91, 'TO': 'friend'}\n",
      "{'DATE': '03/26/2022', 'TIME': '05:04:19', 'PAYMENT_TYPE': 'BITCOIN', 'AMOUNT': 18, 'TO': 'stranger'}\n",
      "{'DATE': '03/26/2022', 'TIME': '05:04:20', 'PAYMENT_TYPE': 'VISA', 'AMOUNT': 1, 'TO': 'friend'}\n",
      "{'DATE': '03/26/2022', 'TIME': '05:04:21', 'PAYMENT_TYPE': 'BITCOIN', 'AMOUNT': 35, 'TO': 'friend'}\n",
      "{'DATE': '03/26/2022', 'TIME': '05:04:22', 'PAYMENT_TYPE': 'VISA', 'AMOUNT': 60, 'TO': 'friend'}\n",
      "{'DATE': '03/26/2022', 'TIME': '05:04:23', 'PAYMENT_TYPE': 'BITCOIN', 'AMOUNT': 28, 'TO': 'dad'}\n",
      "{'DATE': '03/26/2022', 'TIME': '05:04:24', 'PAYMENT_TYPE': 'MASTERCARD', 'AMOUNT': 98, 'TO': 'dad'}\n"
     ]
    }
   ],
   "source": [
    "! python fraud_detection/payment_producer.py"
   ]
  },
  {
   "cell_type": "code",
   "execution_count": 1,
   "id": "9bd017cd-e7d1-41cb-bcd7-7ea3aee15a64",
   "metadata": {},
   "outputs": [
    {
     "name": "stdout",
     "output_type": "stream",
     "text": [
      "Overwriting fraud_detection/fraud_detector.py\n"
     ]
    }
   ],
   "source": [
    "%%writefile fraud_detection/fraud_detector.py\n",
    "from kafka import KafkaConsumer, KafkaProducer\n",
    "import json \n",
    "\n",
    "PAYMENT_TOPIC = \"payments\"\n",
    "FRAUD_TOPIC = \"fraud_payments\"\n",
    "LEGIT_TOPIC = \"legit_payments\"\n",
    "\n",
    "brokers = [\"kafka1:19091\", \"kafka2:19092\", \"kafka3:19093\"]\n",
    "\n",
    "consumer = KafkaConsumer(PAYMENT_TOPIC, bootstrap_servers=brokers)\n",
    "producer = KafkaProducer(bootstrap_servers=brokers)\n",
    "\n",
    "def is_suspicious(transactions):\n",
    "  # and transactions[\"TO\"] == \"stranger\"\n",
    "  if transactions[\"PAYMENT_TYPE\"] == \"BITCOIN\":\n",
    "    return True \n",
    "  return False \n",
    "\n",
    "for message in consumer:\n",
    "  msg = json.loads(message.value.decode())\n",
    "  topic = FRAUD_TOPIC if is_suspicious(msg) else LEGIT_TOPIC\n",
    "  producer.send(topic, json.dumps(msg).encode(\"utf-8\"))\n",
    "  print(topic, is_suspicious(msg), msg[\"PAYMENT_TYPE\"])  "
   ]
  },
  {
   "cell_type": "code",
   "execution_count": null,
   "id": "ace1466b-e941-4614-9cd9-9b7462312488",
   "metadata": {},
   "outputs": [],
   "source": [
    "! python fraud_detection/fraud_detector.py"
   ]
  },
  {
   "cell_type": "code",
   "execution_count": 9,
   "id": "6440e446-f8c7-49b1-8821-9c4adc449acb",
   "metadata": {},
   "outputs": [
    {
     "name": "stdout",
     "output_type": "stream",
     "text": [
      "Overwriting fraud_detection/legit_processor.py\n"
     ]
    }
   ],
   "source": [
    "%%writefile fraud_detection/legit_processor.py\n",
    "from kafka import KafkaConsumer\n",
    "import json\n",
    "\n",
    "LEGIT_TOPIC = \"legit_payments\"\n",
    "brokers = [\"kafka1:19091\", \"kafka2:19092\", \"kafka3:19093\"]\n",
    "consumer = KafkaConsumer(LEGIT_TOPIC, bootstrap_servers=brokers)\n",
    "\n",
    "for message in consumer:\n",
    "  msg = json.loads(message.value.decode())\n",
    "  to = msg[\"TO\"]\n",
    "  amount = msg[\"AMOUNT\"]\n",
    "  if msg[\"PAYMENT_TYPE\"] == \"VISA\":\n",
    "    print(f\"[VISA] payment to: {to} - {amount}\")\n",
    "  elif msg[\"PAYMENT_TYPE\"] == \"MASTERCARD\":\n",
    "    print(f\"[MASTERCARD] payment to: {to} - {amount}\")\n",
    "  else:\n",
    "    print(\"[ALERT] unable to process payments\")"
   ]
  },
  {
   "cell_type": "code",
   "execution_count": null,
   "id": "bea34fd6-b59b-414e-a3c4-2c2560d01ded",
   "metadata": {},
   "outputs": [],
   "source": [
    "! python fraud_detection/legit_processor.py"
   ]
  },
  {
   "cell_type": "code",
   "execution_count": 11,
   "id": "1473f29d-e37e-4d28-812b-e271bcea58dd",
   "metadata": {},
   "outputs": [
    {
     "name": "stdout",
     "output_type": "stream",
     "text": [
      "Overwriting fraud_detection/fraud_processor.py\n"
     ]
    }
   ],
   "source": [
    "%%writefile fraud_detection/fraud_processor.py\n",
    "from kafka import KafkaConsumer\n",
    "import json\n",
    "\n",
    "FRAUD_TOPIC = \"fraud_payments\"\n",
    "brokers = [\"kafka1:19091\", \"kafka2:19092\", \"kafka3:19093\"]\n",
    "consumer = KafkaConsumer(FRAUD_TOPIC, bootstrap_servers=brokers)\n",
    "\n",
    "for message in consumer:\n",
    "  msg = json.loads(message.value.decode())\n",
    "  to = msg[\"TO\"]\n",
    "  amount = msg[\"AMOUNT\"]\n",
    "  if msg[\"TO\"] == \"stranger\":\n",
    "    print(f\"[ALERT] fraud detected payment to: {to} - {amount}\")\n",
    "  else:\n",
    "    print(f\"[PROCESSING BITCOIN] payment to: {to} - {amount}\")\n"
   ]
  },
  {
   "cell_type": "code",
   "execution_count": null,
   "id": "05c9a2c8-e94c-4e7a-bec5-4e2693150ca5",
   "metadata": {},
   "outputs": [],
   "source": [
    "! python fraud_detection/fraud_processor.py"
   ]
  }
 ],
 "metadata": {
  "kernelspec": {
   "display_name": "Python 3 (ipykernel)",
   "language": "python",
   "name": "python3"
  },
  "language_info": {
   "codemirror_mode": {
    "name": "ipython",
    "version": 3
   },
   "file_extension": ".py",
   "mimetype": "text/x-python",
   "name": "python",
   "nbconvert_exporter": "python",
   "pygments_lexer": "ipython3",
   "version": "3.7.0"
  }
 },
 "nbformat": 4,
 "nbformat_minor": 5
}

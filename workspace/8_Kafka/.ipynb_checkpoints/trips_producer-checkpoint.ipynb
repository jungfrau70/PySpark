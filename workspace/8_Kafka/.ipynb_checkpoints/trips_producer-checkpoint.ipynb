{
 "cells": [
  {
   "cell_type": "code",
   "execution_count": 1,
   "id": "a1c95259-edda-48d3-a6dc-0854880ba39e",
   "metadata": {},
   "outputs": [
    {
     "name": "stdout",
     "output_type": "stream",
     "text": [
      "Writing ./trips/trips_producer.py\n"
     ]
    }
   ],
   "source": [
    "%%writefile ./trips/trips_producer.py\n",
    "\n",
    "from kafka import KafkaProducer \n",
    "import csv \n",
    "import json \n",
    "import time \n",
    "\n",
    "brokers = [\"kafka1:19091\", \"kafka2:19092\", \"kafka3:19093\"]\n",
    "# brokers = [\"kafka1:9091\", \"kafka2:9092\", \"kafka3:9093\"]\n",
    "\n",
    "producer = KafkaProducer(bootstrap_servers = brokers)\n",
    "\n",
    "topicName = \"trips\"\n",
    "\n",
    "with open(\"./trips/yellow_tripdata_2021-01.csv\", \"r\") as file:\n",
    "  reader = csv.reader(file)\n",
    "  headings = next(reader)\n",
    "\n",
    "  for row in reader:\n",
    "    producer.send(topicName, json.dumps(row).encode(\"utf-8\"))\n",
    "    print(row)\n",
    "    time.sleep(1)"
   ]
  },
  {
   "cell_type": "code",
   "execution_count": null,
   "id": "675f38e4-dd95-4ecf-9bd9-0160d837203d",
   "metadata": {},
   "outputs": [
    {
     "name": "stdout",
     "output_type": "stream",
     "text": [
      "['1', '2021-01-01 00:30:10', '2021-01-01 00:36:12', '1', '2.10', '1', 'N', '142', '43', '2', '8', '3', '0.5', '0', '0', '0.3', '11.8', '2.5']\n",
      "['1', '2021-01-01 00:51:20', '2021-01-01 00:52:19', '1', '.20', '1', 'N', '238', '151', '2', '3', '0.5', '0.5', '0', '0', '0.3', '4.3', '0']\n",
      "['1', '2021-01-01 00:43:30', '2021-01-01 01:11:06', '1', '14.70', '1', 'N', '132', '165', '1', '42', '0.5', '0.5', '8.65', '0', '0.3', '51.95', '0']\n",
      "['1', '2021-01-01 00:15:48', '2021-01-01 00:31:01', '0', '10.60', '1', 'N', '138', '132', '1', '29', '0.5', '0.5', '6.05', '0', '0.3', '36.35', '0']\n",
      "['2', '2021-01-01 00:31:49', '2021-01-01 00:48:21', '1', '4.94', '1', 'N', '68', '33', '1', '16.5', '0.5', '0.5', '4.06', '0', '0.3', '24.36', '2.5']\n",
      "['1', '2021-01-01 00:16:29', '2021-01-01 00:24:30', '1', '1.60', '1', 'N', '224', '68', '1', '8', '3', '0.5', '2.35', '0', '0.3', '14.15', '2.5']\n"
     ]
    }
   ],
   "source": [
    "! python ./trips/trips_producer.py"
   ]
  },
  {
   "cell_type": "code",
   "execution_count": null,
   "id": "df7c72db-ad00-4a89-8016-80017d1beadb",
   "metadata": {},
   "outputs": [],
   "source": []
  }
 ],
 "metadata": {
  "kernelspec": {
   "display_name": "Python 3 (ipykernel)",
   "language": "python",
   "name": "python3"
  },
  "language_info": {
   "codemirror_mode": {
    "name": "ipython",
    "version": 3
   },
   "file_extension": ".py",
   "mimetype": "text/x-python",
   "name": "python",
   "nbconvert_exporter": "python",
   "pygments_lexer": "ipython3",
   "version": "3.7.0"
  }
 },
 "nbformat": 4,
 "nbformat_minor": 5
}

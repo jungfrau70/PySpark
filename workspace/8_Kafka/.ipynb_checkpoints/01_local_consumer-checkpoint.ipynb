{
 "cells": [
  {
   "cell_type": "code",
   "execution_count": 1,
   "id": "f17cc715-ab09-4a31-a89a-78382be0bf7b",
   "metadata": {},
   "outputs": [],
   "source": [
    "import kafka"
   ]
  },
  {
   "cell_type": "code",
   "execution_count": 2,
   "id": "2f4a50cd-e529-4b77-84b4-3ec08c20d3f9",
   "metadata": {},
   "outputs": [
    {
     "data": {
      "text/plain": [
       "<module 'kafka' from '/opt/conda/envs/kafka/lib/python3.7/site-packages/kafka/__init__.py'>"
      ]
     },
     "execution_count": 2,
     "metadata": {},
     "output_type": "execute_result"
    }
   ],
   "source": [
    "kafka"
   ]
  },
  {
   "cell_type": "code",
   "execution_count": 8,
   "id": "9d64f806-ddff-4fee-8680-d66d02b665ba",
   "metadata": {},
   "outputs": [],
   "source": [
    "! cp config/hosts /etc/hosts"
   ]
  },
  {
   "cell_type": "code",
   "execution_count": 9,
   "id": "f048d0c9-d8f4-4b3d-9e0d-63c97566456f",
   "metadata": {},
   "outputs": [
    {
     "name": "stdout",
     "output_type": "stream",
     "text": [
      "127.0.0.1   localhost\n",
      "\n",
      "172.18.0.11  hive-postgres\n",
      "172.18.0.12  mysql\n",
      "172.18.0.13  mongo\n",
      "172.18.0.14  postgres\n",
      "172.18.0.15  airflow-postgres\n",
      "172.18.0.16  redis\n",
      "\n",
      "172.18.0.21  master\n",
      "\n",
      "172.18.0.31  worker1\n",
      "172.18.0.32  worker2\n",
      "\n",
      "172.18.0.71  airflow-webserver\n",
      "172.18.0.72  airflow-scheduler\n",
      "172.18.0.73  flower\n",
      "172.18.0.74  airflow-init\n",
      "\n",
      "172.18.0.80  zookeeper\n",
      "172.18.0.81  kafka1\n",
      "172.18.0.82  kafka2\n",
      "172.18.0.83  kafka3\n",
      "172.18.0.84  kafdrop"
     ]
    }
   ],
   "source": [
    "! cat /etc/hosts"
   ]
  },
  {
   "cell_type": "code",
   "execution_count": 14,
   "id": "e5844492-ccfa-44e6-98e2-44837d376416",
   "metadata": {},
   "outputs": [
    {
     "name": "stdout",
     "output_type": "stream",
     "text": [
      "Overwriting cluster_consumer.py\n"
     ]
    }
   ],
   "source": [
    "%%writefile cluster_consumer.py\n",
    "# %load cluster_consumer.py\n",
    "from kafka import KafkaConsumer \n",
    "\n",
    "brokers = [\"kafka1:9091\", \"kafka2:9092\", \"kafka3:9093\"]\n",
    "\n",
    "# consumer works like a python generator\n",
    "consumer = KafkaConsumer(\"first-cluster-topic\", bootstrap_servers=brokers) \n",
    "\n",
    "for message in consumer:\n",
    "  print(message)\n"
   ]
  },
  {
   "cell_type": "code",
   "execution_count": null,
   "id": "a90fa918-c8d6-4f78-9524-c37a48b4390e",
   "metadata": {},
   "outputs": [],
   "source": [
    "! python  cluster_consumer.py"
   ]
  },
  {
   "cell_type": "code",
   "execution_count": null,
   "id": "bca3e31f-435b-4222-b823-58716677587e",
   "metadata": {},
   "outputs": [],
   "source": []
  }
 ],
 "metadata": {
  "kernelspec": {
   "display_name": "Python 3 (ipykernel)",
   "language": "python",
   "name": "python3"
  },
  "language_info": {
   "codemirror_mode": {
    "name": "ipython",
    "version": 3
   },
   "file_extension": ".py",
   "mimetype": "text/x-python",
   "name": "python",
   "nbconvert_exporter": "python",
   "pygments_lexer": "ipython3",
   "version": "3.7.0"
  }
 },
 "nbformat": 4,
 "nbformat_minor": 5
}

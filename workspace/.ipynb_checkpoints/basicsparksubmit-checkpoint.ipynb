{
 "cells": [
  {
   "cell_type": "code",
   "execution_count": 2,
   "id": "4197bc40-fd59-4c4e-9d84-c2e76b012d65",
   "metadata": {},
   "outputs": [
    {
     "name": "stdout",
     "output_type": "stream",
     "text": [
      "Writing basicsparksubmit.py\n"
     ]
    }
   ],
   "source": [
    "%%writefile basicsparksubmit.py\n",
    "from pyspark import SparkContext\n",
    "\n",
    "logFilepath = \"hdfs://master:9000/wordcount.txt\"  \n",
    "sc = SparkContext(\"spark://master:7077\", \"first app\")\n",
    "logData = sc.textFile(logFilepath).cache()\n",
    "numAs = logData.filter(lambda s: 'a' in s).count()\n",
    "numBs = logData.filter(lambda s: 'b' in s).count()\n",
    "print(\"Lines with a: %i, lines with b: %i\" % (numAs, numBs))"
   ]
  },
  {
   "cell_type": "code",
   "execution_count": 4,
   "id": "62b57b19-ac74-40b3-b7ae-2d40922259a6",
   "metadata": {},
   "outputs": [
    {
     "name": "stdout",
     "output_type": "stream",
     "text": [
      "Writing dags/dag_basicsparksubmit.py\n"
     ]
    }
   ],
   "source": [
    "%%writefile dags/dag_basicsparksubmit.py\n",
    "import airflow\n",
    "from datetime import timedelta\n",
    "from airflow import DAG\n",
    "from airflow.providers.apache.spark.operators.spark_submit import SparkSubmitOperator \n",
    "from airflow.utils.dates import days_ago\n",
    "\n",
    "default_args = {\n",
    "    'owner': 'airflow',    \n",
    "    #'start_date': airflow.utils.dates.days_ago(2),\n",
    "    # 'end_date': datetime(),\n",
    "    # 'depends_on_past': False,\n",
    "    # 'email': ['airflow@example.com'],\n",
    "    # 'email_on_failure': False,\n",
    "    #'email_on_retry': False,\n",
    "    # If a task fails, retry it once after waiting\n",
    "    # at least 5 minutes\n",
    "    #'retries': 1,\n",
    "    'retry_delay': timedelta(minutes=5),\n",
    "}\n",
    "\n",
    "dag_spark = DAG(\n",
    "        dag_id = \"sparkoperator_demo\",\n",
    "        default_args=default_args,\n",
    "        # schedule_interval='0 0 * * *',\n",
    "        schedule_interval='@once',\n",
    "        dagrun_timeout=timedelta(minutes=60),\n",
    "        description='use case of sparkoperator in airflow',\n",
    "        start_date = airflow.utils.dates.days_ago(1)\n",
    ")\n",
    "\n",
    "spark_submit_local = SparkSubmitOperator(\n",
    "    application ='hdfs://master:9000/basicsparksubmit.py' ,\n",
    "    conn_id= 'spark_default', \n",
    "    task_id='spark_submit_task', \n",
    "    dag=dag_spark\n",
    "    )\n",
    "\n",
    "spark_submit_local\n",
    "\n",
    "if __name__ == \"__main__\":\n",
    "    dag_spark.cli()"
   ]
  },
  {
   "cell_type": "code",
   "execution_count": null,
   "id": "a5ce3ed1-d50a-4bad-b944-1c3916674b14",
   "metadata": {},
   "outputs": [],
   "source": []
  }
 ],
 "metadata": {
  "kernelspec": {
   "display_name": "Python 3 (ipykernel)",
   "language": "python",
   "name": "python3"
  },
  "language_info": {
   "codemirror_mode": {
    "name": "ipython",
    "version": 3
   },
   "file_extension": ".py",
   "mimetype": "text/x-python",
   "name": "python",
   "nbconvert_exporter": "python",
   "pygments_lexer": "ipython3",
   "version": "3.7.0"
  }
 },
 "nbformat": 4,
 "nbformat_minor": 5
}
